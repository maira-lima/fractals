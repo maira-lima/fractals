{
 "cells": [
  {
   "cell_type": "markdown",
   "metadata": {},
   "source": [
    "# L-System fractals\n",
    "\n",
    "[Wikipedia](https://en.wikipedia.org/wiki/L-system)"
   ]
  },
  {
   "cell_type": "code",
   "execution_count": 1,
   "metadata": {},
   "outputs": [],
   "source": [
    "from math import radians, cos, sin, floor, ceil"
   ]
  },
  {
   "cell_type": "code",
   "execution_count": 2,
   "metadata": {},
   "outputs": [],
   "source": [
    "class System(object):\n",
    "    def __init__(self, name, seed, direction, angle, rules):\n",
    "        self.name = name\n",
    "        self.seed = seed\n",
    "        self.direction = direction\n",
    "        self.angle = angle\n",
    "        self.rules = rules\n",
    "        self.level = 0\n",
    "        self.instructions = ''\n",
    "        self.width = 0\n",
    "        self.height = 0\n",
    "        self.x_ini = 0\n",
    "        self.y_ini = 0\n",
    "        self.segment_length = 0\n",
    "    \n",
    "    def draw(self, level, size, name):\n",
    "        seed = self.seed\n",
    "        self.level = level\n",
    "        for i in range(1,level+1):\n",
    "            instructions = ''\n",
    "            for i in range(len(seed)):\n",
    "                if seed[i] in self.rules:\n",
    "                    instructions = instructions + self.rules[seed[i]]\n",
    "                else:\n",
    "                    instructions = instructions + seed[i]\n",
    "            seed = instructions\n",
    "            if len(instructions) > 10240000:\n",
    "                self.level = i\n",
    "                break\n",
    "        self.instructions = instructions\n",
    "        self.dimensions(size, name)\n",
    "    \n",
    "    def dimensions(self, size, name):\n",
    "        self.segment_length = 100\n",
    "        if self.level > 0:\n",
    "            self.width = 0\n",
    "            self.height = 0\n",
    "            self.x_ini = 0\n",
    "            self.y_ini = 0\n",
    "            for i in range(2):\n",
    "                x_max = 0\n",
    "                x_min = 0\n",
    "                y_max = 0\n",
    "                y_min = 0\n",
    "                x = 0\n",
    "                y = 0\n",
    "                bkpx = []\n",
    "                bkpy = []\n",
    "                bkpa = []\n",
    "                if self.segment_length > 1:\n",
    "                    a = self.direction\n",
    "                    for char in self.instructions:\n",
    "                        if char == 'F' or char == 'G':\n",
    "                            x += self.segment_length*cos(radians(a))\n",
    "                            y += self.segment_length*sin(radians(a))\n",
    "                            x_min = x if x < x_min else x_min\n",
    "                            x_max = x if x > x_max else x_max\n",
    "                            y_min = y if y < y_min else y_min\n",
    "                            y_max = y if y > y_max else y_max\n",
    "                        elif char == '+':\n",
    "                            a += self.angle\n",
    "                            a = a-360 if a > 360 else a\n",
    "                        elif char == '-':\n",
    "                            a -= self.angle\n",
    "                            a = a+360 if a < 0 else a\n",
    "                        elif char == '[':\n",
    "                            bkpx.append(x)\n",
    "                            bkpy.append(y)\n",
    "                            bkpa.append(a)\n",
    "                        elif char == ']':\n",
    "                            x = bkpx.pop(-1)\n",
    "                            y = bkpy.pop(-1)\n",
    "                            a = bkpa.pop(-1)\n",
    "                    if i == 0:\n",
    "                        f1 = (size - 40)/(x_max - x_min)\n",
    "                        f2 = (size - 40)/(y_max - y_min)\n",
    "                        f = f2 if f1 > f2 else f1\n",
    "                        self.segment_length = floor(self.segment_length*f)\n",
    "            if self.segment_length < 2:\n",
    "                self.instructions = ''\n",
    "                self.level = 0\n",
    "                print('Error: segment length less than 1 pixel, try a smaller level.')\n",
    "            else:\n",
    "                self.width = floor(x_max - x_min + 40)\n",
    "                self.height = floor(y_max - y_min + 40)\n",
    "                self.x_ini = floor(20 - x_min)\n",
    "                self.y_ini = floor(y_max + 20)\n",
    "                self.svg(name)\n",
    "        else:\n",
    "            print('Error: call expand(level,width).')\n",
    "    \n",
    "    def color(self, i):\n",
    "        colors = ''\n",
    "        i = i % 1530\n",
    "        if i < 256:\n",
    "            colors = colors + '255,'\n",
    "            colors = colors + f'{i},'\n",
    "            colors = colors + '0'\n",
    "        elif i < 511:\n",
    "            colors = colors + f'{510 - i},'\n",
    "            colors = colors + '255,'\n",
    "            colors = colors + '0'\n",
    "        elif i < 766:\n",
    "            colors = colors + '0,'\n",
    "            colors = colors + '255,'\n",
    "            colors = colors + f'{i - 510}'\n",
    "        elif i < 1021:\n",
    "            colors = colors + '0,'\n",
    "            colors = colors + f'{1020 - i},'\n",
    "            colors = colors + '255'\n",
    "        elif i < 1276:\n",
    "            colors = colors + f'{i - 1020},'\n",
    "            colors = colors + '0,'\n",
    "            colors = colors + '255'\n",
    "        elif i < 1531:\n",
    "            colors = colors + '255,'\n",
    "            colors = colors + '0,'\n",
    "            colors = colors + f'{1530 - i}'\n",
    "        return colors\n",
    "    \n",
    "    def svg(self, name):\n",
    "        bkpx = []\n",
    "        bkpy = []\n",
    "        bkpa = []\n",
    "        a = self.direction\n",
    "        x = self.x_ini\n",
    "        y = self.y_ini\n",
    "        color_ct = 0\n",
    "        if self.segment_length > 1:\n",
    "            with open(name, 'w') as f:\n",
    "                f.write('<?xml version=\"1.0\" encoding=\"UTF-8\"?>\\n')\n",
    "                f.write(f'<svg height=\"{self.height}\" width=\"{self.width}\" version=\"1.1\" xmlns=\"http://www.w3.org/2000/svg\" xmlns:xlink=\"http://www.w3.org/1999/xlink\">\\n')\n",
    "                a = self.direction\n",
    "                for char in self.instructions:\n",
    "                    if char == 'F' or char == 'G':\n",
    "                        xi = x\n",
    "                        yi = y\n",
    "                        x += self.segment_length*cos(radians(a))\n",
    "                        y -= self.segment_length*sin(radians(a))\n",
    "                        f.write(f'<line x1=\"{ceil(xi)}\" y1=\"{ceil(yi)}\" x2=\"{ceil(x)}\" y2=\"{ceil(y)}\" style=\"stroke:rgb({self.color(color_ct)});stroke-width:1\" />\\n')\n",
    "                        color_ct += 1\n",
    "                    elif char == '+':\n",
    "                        a += self.angle\n",
    "                        a = a-360 if a > 360 else a\n",
    "                    elif char == '-':\n",
    "                        a -= self.angle\n",
    "                        a = a+360 if a < 0 else a\n",
    "                    elif char == '[':\n",
    "                        bkpx.append(x)\n",
    "                        bkpy.append(y)\n",
    "                        bkpa.append(a)\n",
    "                    elif char == ']':\n",
    "                        x = bkpx.pop(-1)\n",
    "                        y = bkpy.pop(-1)\n",
    "                        a = bkpa.pop(-1)\n",
    "                f.write('</svg>')"
   ]
  },
  {
   "cell_type": "code",
   "execution_count": 3,
   "metadata": {},
   "outputs": [],
   "source": [
    "dragon = System(\"Dragon Curve\", \"FX\", 90, 90, {\"X\":\"X-YF-\", \"Y\":\"+FX+Y\"})\n",
    "gosper = System(\"Gosper Curve\", \"F\", 0, 60, {\"F\":\"F-G--G+F++FF+G-\", \"G\":\"+F-GG--G-F++F+G\"})\n",
    "dekkings = System(\"Dekkings Church\", \"WXYZ\", 0, 90, {\"F\":\"A\", \"W\":\"FW+F-ZFW-F+X\", \"Z\":\"++F--Y-F+X++F--Y-F+X\", \"Y\":\"++F--Y+F-Z\", \"X\":\"FW+F-Z\"})\n",
    "cesaro = System(\"Cesaro Curve\", \"F\", 0, 85, {\"F\":\"F+F--F+F\"})\n",
    "plant = System(\"Plant\", \"X\", 60, 25, {\"X\":\"F+[[X]-X]-F[-FX]+X\", \"F\":\"FF\"})\n",
    "hilbert = System(\"Hilbert Curve\", \"X\", 90, 90, {\"X\":\"+YF-XFX-FY+\", \"Y\":\"-XF+YFY+FX-\"})\n",
    "koch = System(\"Koch Curve\", \"F--F--F\", 0, 60, {\"F\":\"F+F--F+F\"})\n",
    "moore = System(\"Moore Curve\", \"XFX+F+XFX\", 90, 90, {\"X\":\"-YF+XFX+FY-\", \"Y\":\"+XF-YFY-FX+\"})\n",
    "pentigree = System(\"Pentigree\", \"F\", 60, 36, {\"F\":\"+F++F----F--F++F++F-\"})\n",
    "pythagoras = System(\"Pythagoras Tree\", \"F\", 90, 45, {\"G\":\"GG\", \"F\":\"G[+F]-F\"})\n",
    "qgosper = System(\"Quadratic Gosper Curve\", \"-F\", 90, 90, {\"G\":\"GG-F-F+G+G-F-FG+F+GGF-G+F+GG+F-GF-F-G+G+FF-\", \"F\":\"+GG-F-F+G+GF+G-FF-G-F+GFF-G-FG+G+F-F-G+G+FF\"})\n",
    "qkochc = System(\"Quadratic Koch Curve\", \"F\", 0, 90, {\"F\":\"F+F-F-F+F\"})\n",
    "qkochi = System(\"Quadratic Koch Island\", \"F-F-F-F\", 0, 90, {\"F\":\"F+FF-FF-F-F+F+FF-F-F+F+FF+FF-F\"})\n",
    "sierpinski = System(\"Sierpinski Triangle\", \"F-G-G\", 60, 120, {\"G\":\"GG\", \"F\":\"F-G+F+G-F\"})\n",
    "sierpinski2 = System(\"Sierpinski Triangle V2\", \"F\", 0, 60, {\"G\":\"-F+G+F-\", \"F\":\"+G-F-G+\"})\n",
    "xborder = System(\"XBorder\", \"XYXYXYX+XYXYXYX+XYXYXYX+XYXYXYX\", 0, 90, {\"F\":\"A\", \"X\":\"FX+FX+FXFY-FY-\", \"Y\":\"+FX+FXFY-FY-FY\"})"
   ]
  },
  {
   "cell_type": "code",
   "execution_count": 4,
   "metadata": {},
   "outputs": [],
   "source": [
    "dragon.draw(level=13, size=600, name='fractals/dragon.svg')"
   ]
  },
  {
   "cell_type": "markdown",
   "metadata": {},
   "source": [
    "![dragon.svg](fractals/dragon.svg)"
   ]
  },
  {
   "cell_type": "code",
   "execution_count": 5,
   "metadata": {},
   "outputs": [],
   "source": [
    "gosper.draw(level=4, size=600, name='fractals/gosper.svg')"
   ]
  },
  {
   "cell_type": "markdown",
   "metadata": {},
   "source": [
    "![gosper.svg](fractals/gosper.svg)"
   ]
  },
  {
   "cell_type": "code",
   "execution_count": 6,
   "metadata": {},
   "outputs": [],
   "source": [
    "dekkings.draw(level=7, size=600, name='fractals/dekkings.svg')"
   ]
  },
  {
   "cell_type": "markdown",
   "metadata": {},
   "source": [
    "![dekkings.svg](fractals/dekkings.svg)"
   ]
  },
  {
   "cell_type": "code",
   "execution_count": 7,
   "metadata": {},
   "outputs": [],
   "source": [
    "cesaro.draw(level=6, size=600, name='fractals/cesaro.svg')"
   ]
  },
  {
   "cell_type": "markdown",
   "metadata": {},
   "source": [
    "![cesaro.svg](fractals/cesaro.svg)"
   ]
  },
  {
   "cell_type": "code",
   "execution_count": 8,
   "metadata": {},
   "outputs": [],
   "source": [
    "plant.draw(level=5, size=600, name='fractals/plant.svg')"
   ]
  },
  {
   "cell_type": "markdown",
   "metadata": {},
   "source": [
    "![plant.svg](fractals/plant.svg)"
   ]
  },
  {
   "cell_type": "code",
   "execution_count": 9,
   "metadata": {},
   "outputs": [],
   "source": [
    "sierpinski.draw(level=6, size=600, name='fractals/sierpinski.svg')"
   ]
  },
  {
   "cell_type": "markdown",
   "metadata": {},
   "source": [
    "![sierpinski.svg](fractals/sierpinski.svg)"
   ]
  }
 ],
 "metadata": {
  "kernelspec": {
   "display_name": "Python 3",
   "language": "python",
   "name": "python3"
  },
  "language_info": {
   "codemirror_mode": {
    "name": "ipython",
    "version": 3
   },
   "file_extension": ".py",
   "mimetype": "text/x-python",
   "name": "python",
   "nbconvert_exporter": "python",
   "pygments_lexer": "ipython3",
   "version": "3.6.6"
  }
 },
 "nbformat": 4,
 "nbformat_minor": 2
}
